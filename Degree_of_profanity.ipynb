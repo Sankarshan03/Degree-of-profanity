{
 "cells": [
  {
   "cell_type": "code",
   "execution_count": null,
   "metadata": {},
   "outputs": [],
   "source": [
    "#degree of profanity\n",
    "import re\n",
    "\n",
    "# set of racial slurs which can be indicated as slurs\n",
    "racial_slurs_find = {\"slur1\", \"slur2\", \"slur3\"}\n",
    "\n",
    "# function to calculate the degree of profanity for a given sentence by seperating each word\n",
    "def calculate_profanity(line):\n",
    "    profanity_score = 0\n",
    "    words = line.split()\n",
    "    for word in words:\n",
    "        if word in racial_slurs_find:\n",
    "            profanity_score += 1\n",
    "    return profanity_score\n",
    "\n",
    "# read the file and process each line present in the paragraph \n",
    "with open(\"tweets.txt\", \"r\") as file:\n",
    "    for line in file:\n",
    "        sentence = re.sub(r'[^\\w\\s]','',line) #remove punctuations present in the line\n",
    "        profanity_score = calculate_profanity(sentence)\n",
    "        print(f\"Sentence: {sentence.strip()}, Profanity score: {profanity_score}\")\n",
    "\n",
    "\n"
   ]
  }
 ],
 "metadata": {
  "kernelspec": {
   "display_name": "Python 3",
   "language": "python",
   "name": "python3"
  },
  "language_info": {
   "name": "python",
   "version": "3.10.4 (tags/v3.10.4:9d38120, Mar 23 2022, 23:13:41) [MSC v.1929 64 bit (AMD64)]"
  },
  "orig_nbformat": 4,
  "vscode": {
   "interpreter": {
    "hash": "cb9ad00a5c8271a9334242a6335eb9e3f0d9c288de541073d59b019df27205ea"
   }
  }
 },
 "nbformat": 4,
 "nbformat_minor": 2
}
